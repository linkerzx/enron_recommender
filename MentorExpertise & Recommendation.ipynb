{
 "cells": [
  {
   "cell_type": "code",
   "execution_count": 10,
   "metadata": {
    "collapsed": true
   },
   "outputs": [],
   "source": [
    "import pandas as pd\n",
    "import pickle\n",
    "import numpy as np"
   ]
  },
  {
   "cell_type": "code",
   "execution_count": 3,
   "metadata": {
    "collapsed": true
   },
   "outputs": [],
   "source": [
    "pandas_ds = pickle.load(open( \"pandas_processed_topics.p\", \"rb\" ))"
   ]
  },
  {
   "cell_type": "code",
   "execution_count": 4,
   "metadata": {},
   "outputs": [],
   "source": [
    "topic_frequency = pandas_ds.groupby('topic')['body'].count()"
   ]
  },
  {
   "cell_type": "code",
   "execution_count": 38,
   "metadata": {},
   "outputs": [],
   "source": [
    "MentorTopic = pandas_ds.groupby(['from', 'topic'])['body'].count()"
   ]
  },
  {
   "cell_type": "code",
   "execution_count": 105,
   "metadata": {},
   "outputs": [],
   "source": [
    "flatMentorTopic = pd.DataFrame(MentorTopic)\n",
    "flatMentorTopic.reset_index(level=1, inplace=True)\n",
    "flatMentorTopic.reset_index(level=0, inplace=True)\n",
    "flatMentorTopic = flatMentorTopic.rename(columns={'body': 'count'})"
   ]
  },
  {
   "cell_type": "code",
   "execution_count": 147,
   "metadata": {},
   "outputs": [
    {
     "data": {
      "text/plain": [
       "topic\n",
       "0    2221\n",
       "1     724\n",
       "2    5329\n",
       "3     116\n",
       "4    2168\n",
       "5    2021\n",
       "6     195\n",
       "7     232\n",
       "8    3776\n",
       "9     113\n",
       "Name: body, dtype: int64"
      ]
     },
     "execution_count": 147,
     "metadata": {},
     "output_type": "execute_result"
    }
   ],
   "source": [
    "MentorTopicMaxCount = pandas_ds.groupby(['from', 'topic'])['body'].count().groupby('topic').max()\n",
    "MentorTopicMaxCount"
   ]
  },
  {
   "cell_type": "code",
   "execution_count": 150,
   "metadata": {},
   "outputs": [],
   "source": [
    "def fdiv(x, y):\n",
    "    fcount = topic_frequency[y]\n",
    "    return float(x) / fcount\n",
    "#flatMentorTopic.head()['count']\n",
    "\n",
    "def ydiv(x,y):\n",
    "    ycount = MentorTopicMaxCount[y]\n",
    "    return float(x) / ycount\n",
    "\n",
    "flatMentorTopic['share'] = flatMentorTopic.apply(lambda row: fdiv(row['count'], row['topic']), axis=1)\n",
    "flatMentorTopic['normalized'] = flatMentorTopic.apply(lambda row: ydiv(row['count'], row['topic']), axis=1)"
   ]
  },
  {
   "cell_type": "code",
   "execution_count": null,
   "metadata": {},
   "outputs": [],
   "source": [
    "flatMentorTopic.sort_values(['share'], ascending=[0]).head()"
   ]
  },
  {
   "cell_type": "code",
   "execution_count": 135,
   "metadata": {},
   "outputs": [],
   "source": [
    "newflatMentorTopic = flatMentorTopic\n",
    "newflatMentorTopicPivot = newflatMentorTopic.pivot(index='from', columns='topic', values='share').fillna(0)"
   ]
  },
  {
   "cell_type": "code",
   "execution_count": 136,
   "metadata": {},
   "outputs": [
    {
     "data": {
      "text/html": [
       "<div>\n",
       "<style>\n",
       "    .dataframe thead tr:only-child th {\n",
       "        text-align: right;\n",
       "    }\n",
       "\n",
       "    .dataframe thead th {\n",
       "        text-align: left;\n",
       "    }\n",
       "\n",
       "    .dataframe tbody tr th {\n",
       "        vertical-align: top;\n",
       "    }\n",
       "</style>\n",
       "<table border=\"1\" class=\"dataframe\">\n",
       "  <thead>\n",
       "    <tr style=\"text-align: right;\">\n",
       "      <th>topic</th>\n",
       "      <th>0</th>\n",
       "      <th>1</th>\n",
       "      <th>2</th>\n",
       "      <th>3</th>\n",
       "      <th>4</th>\n",
       "      <th>5</th>\n",
       "      <th>6</th>\n",
       "      <th>7</th>\n",
       "      <th>8</th>\n",
       "      <th>9</th>\n",
       "    </tr>\n",
       "    <tr>\n",
       "      <th>from</th>\n",
       "      <th></th>\n",
       "      <th></th>\n",
       "      <th></th>\n",
       "      <th></th>\n",
       "      <th></th>\n",
       "      <th></th>\n",
       "      <th></th>\n",
       "      <th></th>\n",
       "      <th></th>\n",
       "      <th></th>\n",
       "    </tr>\n",
       "  </thead>\n",
       "  <tbody>\n",
       "    <tr>\n",
       "      <th>'todd'.delahoussaye@enron.com</th>\n",
       "      <td>0.00000</td>\n",
       "      <td>0.0</td>\n",
       "      <td>0.00032</td>\n",
       "      <td>0.0</td>\n",
       "      <td>0.000000</td>\n",
       "      <td>0.000000</td>\n",
       "      <td>0.0</td>\n",
       "      <td>0.0</td>\n",
       "      <td>0.0</td>\n",
       "      <td>0.0</td>\n",
       "    </tr>\n",
       "    <tr>\n",
       "      <th>--migrated--bmishkin@ercot.com</th>\n",
       "      <td>0.00001</td>\n",
       "      <td>0.0</td>\n",
       "      <td>0.00000</td>\n",
       "      <td>0.0</td>\n",
       "      <td>0.000000</td>\n",
       "      <td>0.000000</td>\n",
       "      <td>0.0</td>\n",
       "      <td>0.0</td>\n",
       "      <td>0.0</td>\n",
       "      <td>0.0</td>\n",
       "    </tr>\n",
       "    <tr>\n",
       "      <th>--migrated--dodle@ercot.com</th>\n",
       "      <td>0.00001</td>\n",
       "      <td>0.0</td>\n",
       "      <td>0.00000</td>\n",
       "      <td>0.0</td>\n",
       "      <td>0.000000</td>\n",
       "      <td>0.000000</td>\n",
       "      <td>0.0</td>\n",
       "      <td>0.0</td>\n",
       "      <td>0.0</td>\n",
       "      <td>0.0</td>\n",
       "    </tr>\n",
       "    <tr>\n",
       "      <th>-nikole@excite.com</th>\n",
       "      <td>0.00001</td>\n",
       "      <td>0.0</td>\n",
       "      <td>0.00000</td>\n",
       "      <td>0.0</td>\n",
       "      <td>0.000104</td>\n",
       "      <td>0.000013</td>\n",
       "      <td>0.0</td>\n",
       "      <td>0.0</td>\n",
       "      <td>0.0</td>\n",
       "      <td>0.0</td>\n",
       "    </tr>\n",
       "    <tr>\n",
       "      <th>-persson@ricemail.ricefinancial.com</th>\n",
       "      <td>0.00000</td>\n",
       "      <td>0.0</td>\n",
       "      <td>0.00000</td>\n",
       "      <td>0.0</td>\n",
       "      <td>0.000086</td>\n",
       "      <td>0.000000</td>\n",
       "      <td>0.0</td>\n",
       "      <td>0.0</td>\n",
       "      <td>0.0</td>\n",
       "      <td>0.0</td>\n",
       "    </tr>\n",
       "  </tbody>\n",
       "</table>\n",
       "</div>"
      ],
      "text/plain": [
       "topic                                      0    1        2    3         4  \\\n",
       "from                                                                        \n",
       "'todd'.delahoussaye@enron.com        0.00000  0.0  0.00032  0.0  0.000000   \n",
       "--migrated--bmishkin@ercot.com       0.00001  0.0  0.00000  0.0  0.000000   \n",
       "--migrated--dodle@ercot.com          0.00001  0.0  0.00000  0.0  0.000000   \n",
       "-nikole@excite.com                   0.00001  0.0  0.00000  0.0  0.000104   \n",
       "-persson@ricemail.ricefinancial.com  0.00000  0.0  0.00000  0.0  0.000086   \n",
       "\n",
       "topic                                       5    6    7    8    9  \n",
       "from                                                               \n",
       "'todd'.delahoussaye@enron.com        0.000000  0.0  0.0  0.0  0.0  \n",
       "--migrated--bmishkin@ercot.com       0.000000  0.0  0.0  0.0  0.0  \n",
       "--migrated--dodle@ercot.com          0.000000  0.0  0.0  0.0  0.0  \n",
       "-nikole@excite.com                   0.000013  0.0  0.0  0.0  0.0  \n",
       "-persson@ricemail.ricefinancial.com  0.000000  0.0  0.0  0.0  0.0  "
      ]
     },
     "execution_count": 136,
     "metadata": {},
     "output_type": "execute_result"
    }
   ],
   "source": [
    "newflatMentorTopicPivot.head()"
   ]
  },
  {
   "cell_type": "code",
   "execution_count": 165,
   "metadata": {
    "collapsed": true
   },
   "outputs": [],
   "source": [
    "newYflatMentorTopic = flatMentorTopic\n",
    "newYflatMentorTopicPivot = newflatMentorTopic.pivot(index='from', columns='topic', values='normalized').fillna(0)"
   ]
  },
  {
   "cell_type": "code",
   "execution_count": 153,
   "metadata": {},
   "outputs": [
    {
     "data": {
      "text/html": [
       "<div>\n",
       "<style>\n",
       "    .dataframe thead tr:only-child th {\n",
       "        text-align: right;\n",
       "    }\n",
       "\n",
       "    .dataframe thead th {\n",
       "        text-align: left;\n",
       "    }\n",
       "\n",
       "    .dataframe tbody tr th {\n",
       "        vertical-align: top;\n",
       "    }\n",
       "</style>\n",
       "<table border=\"1\" class=\"dataframe\">\n",
       "  <thead>\n",
       "    <tr style=\"text-align: right;\">\n",
       "      <th>topic</th>\n",
       "      <th>0</th>\n",
       "      <th>1</th>\n",
       "      <th>2</th>\n",
       "      <th>3</th>\n",
       "      <th>4</th>\n",
       "      <th>5</th>\n",
       "      <th>6</th>\n",
       "      <th>7</th>\n",
       "      <th>8</th>\n",
       "      <th>9</th>\n",
       "    </tr>\n",
       "    <tr>\n",
       "      <th>from</th>\n",
       "      <th></th>\n",
       "      <th></th>\n",
       "      <th></th>\n",
       "      <th></th>\n",
       "      <th></th>\n",
       "      <th></th>\n",
       "      <th></th>\n",
       "      <th></th>\n",
       "      <th></th>\n",
       "      <th></th>\n",
       "    </tr>\n",
       "  </thead>\n",
       "  <tbody>\n",
       "    <tr>\n",
       "      <th>'todd'.delahoussaye@enron.com</th>\n",
       "      <td>0.00000</td>\n",
       "      <td>0.0</td>\n",
       "      <td>0.000938</td>\n",
       "      <td>0.0</td>\n",
       "      <td>0.000000</td>\n",
       "      <td>0.000000</td>\n",
       "      <td>0.0</td>\n",
       "      <td>0.0</td>\n",
       "      <td>0.0</td>\n",
       "      <td>0.0</td>\n",
       "    </tr>\n",
       "    <tr>\n",
       "      <th>--migrated--bmishkin@ercot.com</th>\n",
       "      <td>0.00045</td>\n",
       "      <td>0.0</td>\n",
       "      <td>0.000000</td>\n",
       "      <td>0.0</td>\n",
       "      <td>0.000000</td>\n",
       "      <td>0.000000</td>\n",
       "      <td>0.0</td>\n",
       "      <td>0.0</td>\n",
       "      <td>0.0</td>\n",
       "      <td>0.0</td>\n",
       "    </tr>\n",
       "    <tr>\n",
       "      <th>--migrated--dodle@ercot.com</th>\n",
       "      <td>0.00045</td>\n",
       "      <td>0.0</td>\n",
       "      <td>0.000000</td>\n",
       "      <td>0.0</td>\n",
       "      <td>0.000000</td>\n",
       "      <td>0.000000</td>\n",
       "      <td>0.0</td>\n",
       "      <td>0.0</td>\n",
       "      <td>0.0</td>\n",
       "      <td>0.0</td>\n",
       "    </tr>\n",
       "    <tr>\n",
       "      <th>-nikole@excite.com</th>\n",
       "      <td>0.00045</td>\n",
       "      <td>0.0</td>\n",
       "      <td>0.000000</td>\n",
       "      <td>0.0</td>\n",
       "      <td>0.002768</td>\n",
       "      <td>0.000495</td>\n",
       "      <td>0.0</td>\n",
       "      <td>0.0</td>\n",
       "      <td>0.0</td>\n",
       "      <td>0.0</td>\n",
       "    </tr>\n",
       "    <tr>\n",
       "      <th>-persson@ricemail.ricefinancial.com</th>\n",
       "      <td>0.00000</td>\n",
       "      <td>0.0</td>\n",
       "      <td>0.000000</td>\n",
       "      <td>0.0</td>\n",
       "      <td>0.002306</td>\n",
       "      <td>0.000000</td>\n",
       "      <td>0.0</td>\n",
       "      <td>0.0</td>\n",
       "      <td>0.0</td>\n",
       "      <td>0.0</td>\n",
       "    </tr>\n",
       "  </tbody>\n",
       "</table>\n",
       "</div>"
      ],
      "text/plain": [
       "topic                                      0    1         2    3         4  \\\n",
       "from                                                                         \n",
       "'todd'.delahoussaye@enron.com        0.00000  0.0  0.000938  0.0  0.000000   \n",
       "--migrated--bmishkin@ercot.com       0.00045  0.0  0.000000  0.0  0.000000   \n",
       "--migrated--dodle@ercot.com          0.00045  0.0  0.000000  0.0  0.000000   \n",
       "-nikole@excite.com                   0.00045  0.0  0.000000  0.0  0.002768   \n",
       "-persson@ricemail.ricefinancial.com  0.00000  0.0  0.000000  0.0  0.002306   \n",
       "\n",
       "topic                                       5    6    7    8    9  \n",
       "from                                                               \n",
       "'todd'.delahoussaye@enron.com        0.000000  0.0  0.0  0.0  0.0  \n",
       "--migrated--bmishkin@ercot.com       0.000000  0.0  0.0  0.0  0.0  \n",
       "--migrated--dodle@ercot.com          0.000000  0.0  0.0  0.0  0.0  \n",
       "-nikole@excite.com                   0.000495  0.0  0.0  0.0  0.0  \n",
       "-persson@ricemail.ricefinancial.com  0.000000  0.0  0.0  0.0  0.0  "
      ]
     },
     "execution_count": 153,
     "metadata": {},
     "output_type": "execute_result"
    }
   ],
   "source": [
    "newYflatMentorTopicPivot.head()"
   ]
  },
  {
   "cell_type": "code",
   "execution_count": 191,
   "metadata": {},
   "outputs": [],
   "source": [
    "from sklearn.neighbors import NearestNeighbors\n",
    "knn = NearestNeighbors(n_neighbors=5, algorithm='ball_tree').fit(newYflatMentorTopicPivot)"
   ]
  },
  {
   "cell_type": "code",
   "execution_count": 203,
   "metadata": {},
   "outputs": [],
   "source": [
    "def getRecommendations(knn, input_array):\n",
    "    distances, indices = knn.kneighbors(input_array)\n",
    "    output_recommendations = []\n",
    "    for i in indices[0]:\n",
    "        name = newYflatMentorTopicPivot.ix[i].name\n",
    "        output_recommendations.append(name)\n",
    "    return output_recommendations"
   ]
  },
  {
   "cell_type": "code",
   "execution_count": 223,
   "metadata": {},
   "outputs": [
    {
     "data": {
      "text/plain": [
       "['outlook.team@enron.com',\n",
       " 'stacey.white@enron.com',\n",
       " 'holly.keiser@enron.com',\n",
       " 'joanne.rozycki@enron.com',\n",
       " 'patti.thompson@enron.com']"
      ]
     },
     "execution_count": 223,
     "metadata": {},
     "output_type": "execute_result"
    }
   ],
   "source": [
    "\"\"\"\n",
    "    Inputs is based on a desired level of expertise across topic\n",
    "    the input needs to be provised between 0 and 1\n",
    "\"\"\"\n",
    "input_array = np.array([0,1,0,0,0, 0,0,0,0,0]).reshape(1, -1)\n",
    "getRecommendations(knn, input_array)"
   ]
  },
  {
   "cell_type": "code",
   "execution_count": null,
   "metadata": {
    "collapsed": true
   },
   "outputs": [],
   "source": []
  }
 ],
 "metadata": {
  "kernelspec": {
   "display_name": "Python 2",
   "language": "python",
   "name": "python2"
  },
  "language_info": {
   "codemirror_mode": {
    "name": "ipython",
    "version": 2
   },
   "file_extension": ".py",
   "mimetype": "text/x-python",
   "name": "python",
   "nbconvert_exporter": "python",
   "pygments_lexer": "ipython2",
   "version": "2.7.13"
  }
 },
 "nbformat": 4,
 "nbformat_minor": 2
}
